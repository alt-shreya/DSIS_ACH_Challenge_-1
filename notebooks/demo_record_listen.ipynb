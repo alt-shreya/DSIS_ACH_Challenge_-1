{
 "cells": [
  {
   "cell_type": "code",
   "execution_count": 1,
   "id": "5a69786b-060f-4d03-9cbe-415e02db501f",
   "metadata": {},
   "outputs": [],
   "source": [
    "from pathlib import Path\n",
    "from random import choice\n",
    "from time import sleep\n",
    "\n",
    "files = dict()\n",
    "files[\"deu\"] = \"data/deu-basic.txt\"\n",
    "files[\"eng\"] = \"data/eng-oxford3000.txt\"\n",
    "files[\"jpn\"] = \"data/jpn-jlpt-n5.txt\"\n",
    "\n",
    "words = dict()\n",
    "words[\"deu\"] = None\n",
    "words[\"eng\"] = None\n",
    "words[\"jpn\"] = None\n",
    "\n",
    "\n",
    "def load_words(path):\n",
    "    with open(path, \"r\") as fh:\n",
    "        lines = fh.read().splitlines()\n",
    "    lines = [line.strip() for line in lines]\n",
    "    return lines\n",
    "\n",
    "\n",
    "def get_word(lang: str, difficulty: int = 1):\n",
    "    global files\n",
    "    global words\n",
    "\n",
    "    word_list = None\n",
    "    \n",
    "    if not lang or (lang not in files):\n",
    "        return(\"(no dictionary for the selected language)\")\n",
    "    \n",
    "    if words[lang]:\n",
    "        word_list = words[lang]\n",
    "    else:\n",
    "        word_list = load_words(files[lang])\n",
    "\n",
    "    if word_list:\n",
    "        return choice(word_list)\n",
    "\n",
    "    return(\"(no word available)\")\n",
    "\n",
    "\n",
    "def stage_record(lang: str):\n",
    "    print(\"=== RECORD MODE: START ===\")\n",
    "\n",
    "    quit = False\n",
    "    retry_count = 1\n",
    "    word = get_word(lang)\n",
    "    repeat = False\n",
    "\n",
    "    while not quit:\n",
    "        print()\n",
    "        if repeat:\n",
    "            print(\"Please re-read this word:\")\n",
    "        else:\n",
    "            print(\"Please read this word:\")\n",
    "\n",
    "        print(f\"\\n{word}\\n\")\n",
    "        sleep(1)\n",
    "        print(f\"<play user's recording of '{word}' for user to check>\\n\")\n",
    "        sleep(0.5)\n",
    "\n",
    "        response = None\n",
    "        while (not response) or (response not in \"CcRrSsQq\"):\n",
    "            print(\"(C: Confirm)   (R: Record again)   (S: Skip)   (Q: quit)\")\n",
    "            response = input()\n",
    "\n",
    "        if response in \"Qq\":  # quit\n",
    "            quit = True\n",
    "        if response in \"Cc\":  # confirm\n",
    "            # store re-record count and wave file to record table\n",
    "            print(f\"<Store a wavefile for '{word}', with re-record count = {retry_count}>\")\n",
    "            word = get_word(lang)\n",
    "            retry_count = 1\n",
    "            repeat = False\n",
    "        elif response in \"Rr\":  # record again\n",
    "            retry_count = retry_count + 1\n",
    "            repeat = True\n",
    "        else:  # skip\n",
    "            # store try count (without wave file) to record table\n",
    "            print(f\"<Store no wavefile for '{word}', with re-record count = {retry_count}>\")\n",
    "            word = get_word(lang)\n",
    "            retry_count = 1\n",
    "            repeat = False\n",
    "\n",
    "    print(\"=== RECORD MODE: END ===\")\n",
    "\n",
    "            \n",
    "def stage_listen(lang: str):\n",
    "    print(\"=== LISTEN MODE: START ===\")\n",
    "\n",
    "    quit = False\n",
    "    retry_count = 1\n",
    "    word = get_word(lang)\n",
    "    repeat = False\n",
    "\n",
    "    while not quit:\n",
    "        print()\n",
    "        if repeat:\n",
    "            print(\"Please re-listen to the recording and see if it match with this word:\")\n",
    "        else:\n",
    "            print(\"Please listen to the recording and see if it match with this word:\")\n",
    "        print()\n",
    "        print(f\"<play recording of '{word}'>\")\n",
    "        sleep(1)\n",
    "        print(f\"\\n{word}\\n\")\n",
    "        sleep(0.5)\n",
    "        \n",
    "        response = None\n",
    "        while (not response) or (response not in \"YyNnRrSsQq\"):\n",
    "            print(\"(Y: Yes)   (N: No)  (R: Repeat again)   (S: Skip)   (Q: quit)\")\n",
    "            response = input()\n",
    "\n",
    "        if response in \"Qq\":  # quit\n",
    "            quit = True\n",
    "        elif response in \"Yn\":  # yes\n",
    "            # store retry count and Accept to validate table\n",
    "            print(f\"<Store Accept for '{word}', with re-listen count = {retry_count}>\")\n",
    "            word = get_word(lang)\n",
    "            retry_count = 1\n",
    "            repeat = False\n",
    "        elif response in \"Nn\":  # no\n",
    "            # store retry count and Reject to validate table\n",
    "            print(f\"<Store Reject for '{word}', with re-listen count = {retry_count}>\")\n",
    "            word = get_word(lang)\n",
    "            retry_count = 1\n",
    "            repeat = False\n",
    "        elif response in \"Rr\":  # repeat\n",
    "            retry_count = retry_count + 1\n",
    "            repeat = True\n",
    "        else:  # skip\n",
    "            # store retry count and Skip to validate table\n",
    "            print(f\"<Store Skip for '{word}', with re-listen count = {retry_count}>\")\n",
    "            word = get_word(lang)\n",
    "            retry_count = 1\n",
    "            repeat = False\n",
    "\n",
    "    print(\"=== LISTEN MODE: END ===\")"
   ]
  },
  {
   "cell_type": "code",
   "execution_count": 2,
   "id": "10890b81-6270-4410-b91d-edd8137e81ba",
   "metadata": {},
   "outputs": [
    {
     "data": {
      "text/plain": [
       "'daily'"
      ]
     },
     "execution_count": 2,
     "metadata": {},
     "output_type": "execute_result"
    }
   ],
   "source": [
    "get_word(\"eng\")"
   ]
  },
  {
   "cell_type": "code",
   "execution_count": 3,
   "id": "10e71bbc-edf6-40bd-97da-9a5d151600f6",
   "metadata": {},
   "outputs": [
    {
     "data": {
      "text/plain": [
       "'トイレ'"
      ]
     },
     "execution_count": 3,
     "metadata": {},
     "output_type": "execute_result"
    }
   ],
   "source": [
    "get_word(\"jpn\")"
   ]
  },
  {
   "cell_type": "code",
   "execution_count": 4,
   "id": "c7812bbe-e24d-433d-ad4d-716d6bbf4a78",
   "metadata": {},
   "outputs": [
    {
     "data": {
      "text/plain": [
       "'stellen'"
      ]
     },
     "execution_count": 4,
     "metadata": {},
     "output_type": "execute_result"
    }
   ],
   "source": [
    "get_word(\"deu\")"
   ]
  },
  {
   "cell_type": "code",
   "execution_count": 5,
   "id": "17b2ae92-ee3a-47a4-ac71-9722aaa88bfc",
   "metadata": {},
   "outputs": [
    {
     "data": {
      "text/plain": [
       "'(no dictionary for the selected language)'"
      ]
     },
     "execution_count": 5,
     "metadata": {},
     "output_type": "execute_result"
    }
   ],
   "source": [
    "get_word(\"tha\")"
   ]
  },
  {
   "cell_type": "code",
   "execution_count": 6,
   "id": "33d5a7c0-9830-450b-a0f9-5653dd2e7c5b",
   "metadata": {},
   "outputs": [
    {
     "name": "stdout",
     "output_type": "stream",
     "text": [
      "=== RECORD MODE: START ===\n",
      "\n",
      "Please read this word:\n",
      "\n",
      "は\n",
      "\n",
      "<play user's recording of 'は' for user to check>\n",
      "\n",
      "(C: Confirm)   (R: Record again)   (S: Skip)   (Q: quit)\n"
     ]
    },
    {
     "name": "stdin",
     "output_type": "stream",
     "text": [
      " c\n"
     ]
    },
    {
     "name": "stdout",
     "output_type": "stream",
     "text": [
      "<Store a wavefile for 'は', with re-record count = 1>\n",
      "\n",
      "Please read this word:\n",
      "\n",
      "じどうしゃ\n",
      "\n",
      "<play user's recording of 'じどうしゃ' for user to check>\n",
      "\n",
      "(C: Confirm)   (R: Record again)   (S: Skip)   (Q: quit)\n"
     ]
    },
    {
     "name": "stdin",
     "output_type": "stream",
     "text": [
      " r\n"
     ]
    },
    {
     "name": "stdout",
     "output_type": "stream",
     "text": [
      "\n",
      "Please re-read this word:\n",
      "\n",
      "じどうしゃ\n",
      "\n",
      "<play user's recording of 'じどうしゃ' for user to check>\n",
      "\n",
      "(C: Confirm)   (R: Record again)   (S: Skip)   (Q: quit)\n"
     ]
    },
    {
     "name": "stdin",
     "output_type": "stream",
     "text": [
      " c\n"
     ]
    },
    {
     "name": "stdout",
     "output_type": "stream",
     "text": [
      "<Store a wavefile for 'じどうしゃ', with re-record count = 2>\n",
      "\n",
      "Please read this word:\n",
      "\n",
      "すずしい\n",
      "\n",
      "<play user's recording of 'すずしい' for user to check>\n",
      "\n",
      "(C: Confirm)   (R: Record again)   (S: Skip)   (Q: quit)\n"
     ]
    },
    {
     "name": "stdin",
     "output_type": "stream",
     "text": [
      " s\n"
     ]
    },
    {
     "name": "stdout",
     "output_type": "stream",
     "text": [
      "<Store no wavefile for 'すずしい', with re-record count = 1>\n",
      "\n",
      "Please read this word:\n",
      "\n",
      "すむ\n",
      "\n",
      "<play user's recording of 'すむ' for user to check>\n",
      "\n",
      "(C: Confirm)   (R: Record again)   (S: Skip)   (Q: quit)\n"
     ]
    },
    {
     "name": "stdin",
     "output_type": "stream",
     "text": [
      " q\n"
     ]
    },
    {
     "name": "stdout",
     "output_type": "stream",
     "text": [
      "<Store no wavefile for 'すむ', with re-record count = 1>\n",
      "=== RECORD MODE: END ===\n"
     ]
    }
   ],
   "source": [
    "stage_record(\"jpn\")"
   ]
  },
  {
   "cell_type": "code",
   "execution_count": 7,
   "id": "b512f54c-3d43-444a-8253-aa5f05ec90bd",
   "metadata": {},
   "outputs": [
    {
     "name": "stdout",
     "output_type": "stream",
     "text": [
      "=== LISTEN MODE: START ===\n",
      "\n",
      "Please listen to the recording and see if it match with this word:\n",
      "\n",
      "<play recording of 'physics'>\n",
      "\n",
      "physics\n",
      "\n",
      "(Y: Yes)   (N: No)  (R: Repeat again)   (S: Skip)   (Q: quit)\n"
     ]
    },
    {
     "name": "stdin",
     "output_type": "stream",
     "text": [
      " y\n"
     ]
    },
    {
     "name": "stdout",
     "output_type": "stream",
     "text": [
      "<Store Skip for 'physics', with re-listen count = 1>\n",
      "\n",
      "Please listen to the recording and see if it match with this word:\n",
      "\n",
      "<play recording of 'stand for'>\n",
      "\n",
      "stand for\n",
      "\n",
      "(Y: Yes)   (N: No)  (R: Repeat again)   (S: Skip)   (Q: quit)\n"
     ]
    },
    {
     "name": "stdin",
     "output_type": "stream",
     "text": [
      " n\n"
     ]
    },
    {
     "name": "stdout",
     "output_type": "stream",
     "text": [
      "<Store Accept for 'stand for', with re-listen count = 1>\n",
      "\n",
      "Please listen to the recording and see if it match with this word:\n",
      "\n",
      "<play recording of 'hotel'>\n",
      "\n",
      "hotel\n",
      "\n",
      "(Y: Yes)   (N: No)  (R: Repeat again)   (S: Skip)   (Q: quit)\n"
     ]
    },
    {
     "name": "stdin",
     "output_type": "stream",
     "text": [
      " r\n"
     ]
    },
    {
     "name": "stdout",
     "output_type": "stream",
     "text": [
      "\n",
      "Please re-listen to the recording and see if it match with this word:\n",
      "\n",
      "<play recording of 'hotel'>\n",
      "\n",
      "hotel\n",
      "\n",
      "(Y: Yes)   (N: No)  (R: Repeat again)   (S: Skip)   (Q: quit)\n"
     ]
    },
    {
     "name": "stdin",
     "output_type": "stream",
     "text": [
      " r\n"
     ]
    },
    {
     "name": "stdout",
     "output_type": "stream",
     "text": [
      "\n",
      "Please re-listen to the recording and see if it match with this word:\n",
      "\n",
      "<play recording of 'hotel'>\n",
      "\n",
      "hotel\n",
      "\n",
      "(Y: Yes)   (N: No)  (R: Repeat again)   (S: Skip)   (Q: quit)\n"
     ]
    },
    {
     "name": "stdin",
     "output_type": "stream",
     "text": [
      " y\n"
     ]
    },
    {
     "name": "stdout",
     "output_type": "stream",
     "text": [
      "<Store Skip for 'hotel', with re-listen count = 3>\n",
      "\n",
      "Please listen to the recording and see if it match with this word:\n",
      "\n",
      "<play recording of 'mark'>\n",
      "\n",
      "mark\n",
      "\n",
      "(Y: Yes)   (N: No)  (R: Repeat again)   (S: Skip)   (Q: quit)\n"
     ]
    },
    {
     "name": "stdin",
     "output_type": "stream",
     "text": [
      " s\n"
     ]
    },
    {
     "name": "stdout",
     "output_type": "stream",
     "text": [
      "<Store Skip for 'mark', with re-listen count = 1>\n",
      "\n",
      "Please listen to the recording and see if it match with this word:\n",
      "\n",
      "<play recording of 'outline'>\n",
      "\n",
      "outline\n",
      "\n",
      "(Y: Yes)   (N: No)  (R: Repeat again)   (S: Skip)   (Q: quit)\n"
     ]
    },
    {
     "name": "stdin",
     "output_type": "stream",
     "text": [
      " q\n"
     ]
    },
    {
     "name": "stdout",
     "output_type": "stream",
     "text": [
      "=== LISTEN MODE: END ===\n"
     ]
    }
   ],
   "source": [
    "stage_listen(\"eng\")"
   ]
  },
  {
   "cell_type": "code",
   "execution_count": null,
   "id": "71b6ddc0-4c6a-4f66-b133-734d6952680b",
   "metadata": {},
   "outputs": [],
   "source": []
  }
 ],
 "metadata": {
  "kernelspec": {
   "display_name": "Python 3 (ipykernel)",
   "language": "python",
   "name": "python3"
  },
  "language_info": {
   "codemirror_mode": {
    "name": "ipython",
    "version": 3
   },
   "file_extension": ".py",
   "mimetype": "text/x-python",
   "name": "python",
   "nbconvert_exporter": "python",
   "pygments_lexer": "ipython3",
   "version": "3.8.12"
  }
 },
 "nbformat": 4,
 "nbformat_minor": 5
}
